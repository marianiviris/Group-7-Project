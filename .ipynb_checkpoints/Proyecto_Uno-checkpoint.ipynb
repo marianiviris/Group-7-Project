{
 "cells": [
  {
   "cell_type": "code",
   "execution_count": 7,
   "metadata": {},
   "outputs": [
    {
     "name": "stdout",
     "output_type": "stream",
     "text": [
      "Populating the interactive namespace from numpy and matplotlib\n"
     ]
    },
    {
     "ename": "AttributeError",
     "evalue": "module 'config' has no attribute 'api_key'",
     "output_type": "error",
     "traceback": [
      "\u001b[1;31m---------------------------------------------------------------------------\u001b[0m",
      "\u001b[1;31mAttributeError\u001b[0m                            Traceback (most recent call last)",
      "\u001b[1;32m<ipython-input-7-8af84bc75c9c>\u001b[0m in \u001b[0;36m<module>\u001b[1;34m\u001b[0m\n\u001b[0;32m     10\u001b[0m \u001b[1;32mimport\u001b[0m \u001b[0mconfig\u001b[0m \u001b[1;32mas\u001b[0m \u001b[0mconf\u001b[0m\u001b[1;33m\u001b[0m\u001b[1;33m\u001b[0m\u001b[0m\n\u001b[0;32m     11\u001b[0m \u001b[1;32mimport\u001b[0m \u001b[0mscipy\u001b[0m\u001b[1;33m.\u001b[0m\u001b[0mstats\u001b[0m \u001b[1;32mas\u001b[0m \u001b[0mstats\u001b[0m\u001b[1;33m\u001b[0m\u001b[1;33m\u001b[0m\u001b[0m\n\u001b[1;32m---> 12\u001b[1;33m \u001b[0mgmaps\u001b[0m\u001b[1;33m.\u001b[0m\u001b[0mconfigure\u001b[0m\u001b[1;33m(\u001b[0m\u001b[0mconf\u001b[0m\u001b[1;33m.\u001b[0m\u001b[0mapi_key\u001b[0m\u001b[1;33m)\u001b[0m\u001b[1;33m\u001b[0m\u001b[1;33m\u001b[0m\u001b[0m\n\u001b[0m",
      "\u001b[1;31mAttributeError\u001b[0m: module 'config' has no attribute 'api_key'"
     ]
    }
   ],
   "source": [
    "#Dependencies\n",
    "%pylab inline\n",
    "import numpy as np\n",
    "import pandas as pd\n",
    "import matplotlib.pyplot as plt\n",
    "import requests\n",
    "import time\n",
    "from us import states\n",
    "import gmaps\n",
    "import config as conf\n",
    "import scipy.stats as stats\n",
    "gmaps.configure(conf.api_key)"
   ]
  },
  {
   "cell_type": "code",
   "execution_count": null,
   "metadata": {},
   "outputs": [],
   "source": [
    "#Set all the figures on same size\n",
    "pylab.rcParams['figure.figsize'] = (10, 5)"
   ]
  },
  {
   "cell_type": "code",
   "execution_count": null,
   "metadata": {},
   "outputs": [],
   "source": [
    "#Open/read CSV file and look at table head()\n",
    "death_pd_base = pd.read_csv(\"Causes_of_Death.csv\")\n",
    "death_pd_base.head()"
   ]
  },
  {
   "cell_type": "code",
   "execution_count": null,
   "metadata": {},
   "outputs": [],
   "source": [
    "#Create table with mean of Age-adjusted death rates per cause from 1999-2016\n",
    "#Drop \"All causes\" to focus on 10 leading causes\n",
    "ppcauses = death_pd_base.groupby([\"Year\", \"Cause Name\"]).mean()[\"Age-adjusted Death Rate\"].unstack(level=-1)\n",
    "leadcause = ppcauses.drop(\"All causes\", axis=1)\n",
    "means = leadcause.mean()\n",
    "leadcause = pd.DataFrame(means).reset_index()\n",
    "leadcause.columns = [\"Cause Name\", \"Rate\"]\n",
    "leadcause.sort_values(\"Rate\",inplace=True)\n",
    "leadcause"
   ]
  },
  {
   "cell_type": "code",
   "execution_count": null,
   "metadata": {},
   "outputs": [],
   "source": [
    "#Create a horizontal bar plot with descending order to show top 10 leading causes of death in USA\n",
    "x = leadcause[\"Cause Name\"]\n",
    "y = leadcause[\"Rate\"]\n",
    "\n",
    "plt.barh(x, y, color='green', alpha=1, align=\"center\")\n",
    "plt.title(\"Top 10 Leading Causes of Death in USA (1999-2016)\")\n",
    "plt.xlabel(\"Age-Adjusted Death Rate per 100,000 habitants\")\n",
    "plt.grid(linestyle='--', dashes=(1, 4), linewidth=0.5, color='black')\n",
    "plt.savefig(\"Leading Causes of Death USA.png\")\n",
    "plt.show()"
   ]
  },
  {
   "cell_type": "code",
   "execution_count": null,
   "metadata": {},
   "outputs": [],
   "source": [
    "#Group the years and plot the trend of the diseases in each group of years\n",
    "bins = [1998, 2004, 2010, 2016]\n",
    "group_names = [\"1999-2004\", \"2005-2010\", \"2011-2016\"]\n",
    "\n",
    "death_pd_base[\"Year Range\"] =pd.cut(death_pd_base[\"Year\"], bins, labels=group_names)\n",
    "deaths_year = death_pd_base.groupby([\"Year Range\", \"Cause Name\"]).mean()[\"Age-adjusted Death Rate\"].unstack(level=-1)\n",
    "deaths_year = deaths_year.drop(\"All causes\", axis=1)\n",
    "deaths_year"
   ]
  },
  {
   "cell_type": "code",
   "execution_count": null,
   "metadata": {},
   "outputs": [],
   "source": [
    "deaths_year2 = death_pd_base.groupby([\"Year\", \"Cause Name\"]).mean()[\"Age-adjusted Death Rate\"].unstack(level=-1)\n",
    "deaths_year2 = deaths_year2.drop(\"All causes\", axis=1)\n",
    "deaths_year2.head()"
   ]
  },
  {
   "cell_type": "code",
   "execution_count": null,
   "metadata": {},
   "outputs": [],
   "source": [
    "deaths_Heart_Cancer2 = deaths_year2[[\"Heart disease\",\"Cancer\"]]\n",
    "deaths_Heart_Cancer2.head()"
   ]
  },
  {
   "cell_type": "code",
   "execution_count": null,
   "metadata": {},
   "outputs": [],
   "source": [
    "deaths_Heart_Cancer2.plot(kind=\"line\", marker ='o', alpha=1, linewidth=4)\n",
    "plt.title(\"Top 2 Leading Causes of Death in USA (1999-2016)\")\n",
    "plt.xlabel(\"Year\")\n",
    "plt.ylabel(\"Age-adjusted Death Rate per 100,000 habitants\")\n",
    "plt.legend(loc='best', framealpha=1, edgecolor='k')\n",
    "plt.grid(linestyle='--', dashes=(1, 4), linewidth=0.5, color='black')\n",
    "plt.savefig(\"Top 2 Leading Causes of Death USA.png\")\n",
    "plt.show()"
   ]
  },
  {
   "cell_type": "code",
   "execution_count": null,
   "metadata": {},
   "outputs": [],
   "source": [
    "deaths_others2 = deaths_year2[[\"Alzheimer's disease\", \"CLRD\", \"Diabetes\", \"Influenza and pneumonia\",\\\n",
    "                             \"Kidney disease\", \"Stroke\", \"Suicide\", \"Unintentional injuries\"]]\n",
    "deaths_others2.head()"
   ]
  },
  {
   "cell_type": "code",
   "execution_count": null,
   "metadata": {
    "scrolled": false
   },
   "outputs": [],
   "source": [
    "deaths_others2.plot(kind=\"line\", marker ='o', alpha=1, linewidth=4, figsize=(20,10))\n",
    "plt.title(\"Leading Causes of Death in USA\")\n",
    "plt.xlabel(\"Year\")\n",
    "plt.ylabel(\"Age-adjusted Death Rate per 100,000 habitants\")\n",
    "plt.legend(loc='best', framealpha=1, edgecolor='k')\n",
    "plt.grid(linestyle='--', dashes=(1, 4), linewidth=0.5, color='black')\n",
    "plt.savefig(\"Bottom 8 Leading Causes of Death USA.png\")\n",
    "plt.show()"
   ]
  },
  {
   "cell_type": "markdown",
   "metadata": {},
   "source": [
    "# Null Hypothesis #1\n",
    "\n",
    "-The trend observed on the decrease of death rate for Heart disease and Cancer (meaning, the decrease on age-adjusted death rate per 100,000 habitants) does not represent a significant improvement throught the years."
   ]
  },
  {
   "cell_type": "code",
   "execution_count": null,
   "metadata": {
    "scrolled": true
   },
   "outputs": [],
   "source": [
    "#Test the null hypothesis \"Heart\" with ANOVA test\n",
    "deaths_Heart = deaths_year2[[\"Heart disease\"]]\n",
    "dH = deaths_Heart.reset_index()\n",
    "dH.head()"
   ]
  },
  {
   "cell_type": "code",
   "execution_count": null,
   "metadata": {},
   "outputs": [],
   "source": [
    "bins = [1998, 2004, 2010, 2016]\n",
    "group_names = [\"1999-2004\", \"2005-2010\", \"2011-2016\"]\n",
    "\n",
    "dH[\"Year Range\"] = pd.cut(dH[\"Year\"], bins, labels=group_names)\n",
    "dH.head()"
   ]
  },
  {
   "cell_type": "code",
   "execution_count": null,
   "metadata": {},
   "outputs": [],
   "source": [
    "dH.boxplot(\"Heart disease\", by=\"Year Range\", figsize=(10,5))"
   ]
  },
  {
   "cell_type": "code",
   "execution_count": null,
   "metadata": {},
   "outputs": [],
   "source": [
    "group1hd = dH[dH[\"Year Range\"] == \"1999-2004\"][\"Heart disease\"]\n",
    "group2hd = dH[dH[\"Year Range\"] == \"2005-2010\"][\"Heart disease\"]\n",
    "group3hd = dH[dH[\"Year Range\"] == \"2011-2016\"][\"Heart disease\"]\n",
    "\n",
    "stats.f_oneway(group1hd, group2hd, group3hd)"
   ]
  },
  {
   "cell_type": "code",
   "execution_count": null,
   "metadata": {},
   "outputs": [],
   "source": [
    "#Test the null hypothesis \"Cancer\" with ANOVA test\n",
    "deaths_Cancer = deaths_year2[[\"Cancer\"]]\n",
    "dC = deaths_Cancer.reset_index()\n",
    "dC.head()"
   ]
  },
  {
   "cell_type": "code",
   "execution_count": null,
   "metadata": {},
   "outputs": [],
   "source": [
    "bins = [1998, 2004, 2010, 2016]\n",
    "group_names = [\"1999-2004\", \"2005-2010\", \"2011-2016\"]\n",
    "\n",
    "dC[\"Year Range\"] = pd.cut(dC[\"Year\"], bins, labels=group_names)\n",
    "dC.head()"
   ]
  },
  {
   "cell_type": "code",
   "execution_count": null,
   "metadata": {},
   "outputs": [],
   "source": [
    "dC.boxplot(\"Cancer\", by=\"Year Range\", figsize=(10, 5))"
   ]
  },
  {
   "cell_type": "code",
   "execution_count": null,
   "metadata": {},
   "outputs": [],
   "source": [
    "group1c = dC[dC[\"Year Range\"] == \"1999-2004\"][\"Cancer\"]\n",
    "group2c = dC[dC[\"Year Range\"] == \"2005-2010\"][\"Cancer\"]\n",
    "group3c = dC[dC[\"Year Range\"] == \"2011-2016\"][\"Cancer\"]\n",
    "\n",
    "stats.f_oneway(group1c, group2c, group3c)"
   ]
  },
  {
   "cell_type": "code",
   "execution_count": null,
   "metadata": {},
   "outputs": [],
   "source": [
    "#Create a table showing data per year on each State during 1999-2016\n",
    "by_state= death_pd_base[['State','Cause Name','Year','Deaths']]\n",
    "state_grouped= by_state.groupby(['State', 'Cause Name'])\n",
    "state_grouped.first()"
   ]
  },
  {
   "cell_type": "code",
   "execution_count": null,
   "metadata": {},
   "outputs": [],
   "source": [
    "#Create a table with mean of age-adjusted rate per State and disease during 1999-2016 period\n",
    "death_pd= death_pd_base[death_pd_base['Cause Name'] != 'All causes']\n",
    "by_state_adr= death_pd[['State','Cause Name','Year','Age-adjusted Death Rate']]\n",
    "grouped= by_state.groupby(['State', 'Cause Name'])\n",
    "\n",
    "grouped.first()\n",
    "by_state_adr=pd.DataFrame(death_pd[['State','Cause Name','Age-adjusted Death Rate']])\n",
    "death_by_state_adr= death_pd.groupby([\"State\",\"Cause Name\"]).mean()[\"Age-adjusted Death Rate\"].unstack(level=-1)\n",
    "death_by_state_adr2 = death_by_state_adr.drop(\"United States\")\n",
    "death_by_state_adr2.head()"
   ]
  },
  {
   "cell_type": "code",
   "execution_count": null,
   "metadata": {},
   "outputs": [],
   "source": [
    "state_Heart = death_by_state_adr2[[\"Heart disease\"]]\n",
    "state_HD = state_Heart.reset_index()\n",
    "state_HD.head()"
   ]
  },
  {
   "cell_type": "code",
   "execution_count": null,
   "metadata": {},
   "outputs": [],
   "source": [
    "state_HD = state_HD.sort_values(\"Heart disease\", ascending=False)\n",
    "state_HD2 = state_HD.iloc[0:10]\n",
    "state_HD2"
   ]
  },
  {
   "cell_type": "code",
   "execution_count": null,
   "metadata": {},
   "outputs": [],
   "source": [
    "coordinatesHD = [\n",
    "    (32.741646, -89.678696),\n",
    "    (35.565342, -96.928917),\n",
    "    (32.806671, -86.791130),\n",
    "    (38.897438, -77.026817),\n",
    "    (31.169546, -91.867805),\n",
    "    (34.969704, -92.373123),\n",
    "    (38.491226, -80.954453),\n",
    "    (37.668140, -84.670067),\n",
    "    (35.747845, -86.692345),\n",
    "    (42.165726, -74.948051)\n",
    "]\n",
    "\n",
    "figure_layout = {\n",
    "   'width': '1000px',\n",
    "   'height': '500px',\n",
    "   'border': '1px solid black',\n",
    "   'padding': '1px',\n",
    "   'margin': '0 auto 0 auto'\n",
    "}\n",
    "\n",
    "fig = gmaps.figure(layout=figure_layout)\n",
    "markers = gmaps.marker_layer(coordinatesHD)\n",
    "fig.add_layer(markers)\n",
    "fig"
   ]
  },
  {
   "cell_type": "code",
   "execution_count": null,
   "metadata": {},
   "outputs": [],
   "source": [
    "state_Cancer = death_by_state_adr2[[\"Cancer\"]]\n",
    "state_C = state_Cancer.reset_index()\n",
    "state_C.head()"
   ]
  },
  {
   "cell_type": "code",
   "execution_count": null,
   "metadata": {},
   "outputs": [],
   "source": [
    "state_C = state_C.sort_values(\"Cancer\", ascending=False)\n",
    "state_C2 = state_C.iloc[0:10]\n",
    "state_C2"
   ]
  },
  {
   "cell_type": "code",
   "execution_count": null,
   "metadata": {},
   "outputs": [],
   "source": [
    "coordinatesC = [\n",
    "    (32.741646, -89.678696),\n",
    "    (35.565342, -96.928917),\n",
    "    (32.806671, -86.791130),\n",
    "    (38.897438, -77.026817),\n",
    "    (31.169546, -91.867805),\n",
    "    (34.969704, -92.373123),\n",
    "    (38.491226, -80.954453),\n",
    "    (37.668140, -84.670067),\n",
    "    (35.747845, -86.692345),\n",
    "    (39.849426, -86.258278)\n",
    "]\n",
    "\n",
    "figure_layout = {\n",
    "   'width': '1000px',\n",
    "   'height': '500px',\n",
    "   'border': '1px solid black',\n",
    "   'padding': '1px',\n",
    "   'margin': '0 auto 0 auto'\n",
    "}\n",
    "\n",
    "fig = gmaps.figure(layout=figure_layout)\n",
    "markers = gmaps.marker_layer(coordinatesC)\n",
    "fig.add_layer(markers)\n",
    "fig"
   ]
  },
  {
   "cell_type": "code",
   "execution_count": null,
   "metadata": {},
   "outputs": [],
   "source": [
    "state_Alz = death_by_state_adr2[[\"Alzheimer's disease\"]]\n",
    "state_Alz = state_Alz.reset_index()\n",
    "state_Alz.head()"
   ]
  },
  {
   "cell_type": "code",
   "execution_count": null,
   "metadata": {},
   "outputs": [],
   "source": [
    "state_Alz = state_Alz.sort_values(\"Alzheimer's disease\", ascending=False)\n",
    "state_Alz2 = state_Alz.iloc[0:10]\n",
    "state_Alz2"
   ]
  },
  {
   "cell_type": "code",
   "execution_count": null,
   "metadata": {},
   "outputs": [],
   "source": [
    "coordinatesAlz = [\n",
    "    (47.400902, -121.490494),\n",
    "    (47.528912, -99.784012),\n",
    "    (35.747845, -86.692345),\n",
    "    (33.856892, -80.945007),\n",
    "    (31.169546, -91.867805),\n",
    "    (33.729759, -111.431221),\n",
    "    (32.806671, -86.791130),\n",
    "    (44.299782, -99.438828),\n",
    "    (37.668140, -84.670067),\n",
    "    (44.572021, -122.070938)\n",
    "]\n",
    "\n",
    "figure_layout = {\n",
    "   'width': '1000px',\n",
    "   'height': '500px',\n",
    "   'border': '1px solid black',\n",
    "   'padding': '1px',\n",
    "   'margin': '0 auto 0 auto'\n",
    "}\n",
    "\n",
    "fig = gmaps.figure(layout=figure_layout)\n",
    "markers = gmaps.marker_layer(coordinatesAlz)\n",
    "fig.add_layer(markers)\n",
    "fig"
   ]
  },
  {
   "cell_type": "markdown",
   "metadata": {},
   "source": [
    "# Null Hypothesis #2\n",
    "\n",
    "-The death rate due to suicide is not significantly related to states with lower temperatures throught the year."
   ]
  },
  {
   "cell_type": "code",
   "execution_count": null,
   "metadata": {},
   "outputs": [],
   "source": [
    "#Create a table with mean of age-adjusted rate per State and suicide\n",
    "death_group_df = death_pd_base.groupby([\"State\", \"Cause Name\"]).mean()[\"Age-adjusted Death Rate\"].unstack(level=-1)\n",
    "death_suicide_df = death_group_df[\"Suicide\"]\n",
    "death_suicide_df = death_suicide_df.drop(\"United States\")\n",
    "death_suicide_df = pd.DataFrame(death_suicide_df).reset_index()\n",
    "death_suicide_df.head()"
   ]
  },
  {
   "cell_type": "code",
   "execution_count": null,
   "metadata": {},
   "outputs": [],
   "source": [
    "# Taken from https://inkplant.com/code/state-latitudes-longitudes, nearly state centroid\n",
    "coord_states = {\"Alabama\": [32.806671, -86.791130], \"Alaska\": [61.370716, -152.404419],\n",
    "\"Arizona\": [33.729759, -111.431221], \"Arkansas\": [34.969704, -92.373123],\n",
    "\"California\": [36.116203, -119.681564], \"Colorado\": [39.059811, -105.311104],\n",
    "\"Connecticut\": [41.597782, -72.755371], \"Delaware\": [39.318523, -75.507141],\n",
    "\"District of Columbia\": [38.897438, -77.026817], \"Florida\": [27.766279, -81.686783],\n",
    "\"Georgia\": [33.040619, -83.643074], \"Hawaii\": [21.094318, -157.498337],\n",
    "\"Idaho\": [44.240459, -114.478828], \"Illinois\": [40.349457, -88.986137],\n",
    "\"Indiana\": [39.849426, -86.258278], \"Iowa\": [42.011539, -93.210526],\n",
    "\"Kansas\": [38.526600, -96.726486], \"Kentucky\": [37.668140, -84.670067],\n",
    "\"Louisiana\": [31.169546, -91.867805], \"Maine\": [44.693947, -69.381927],\n",
    "\"Maryland\": [39.063946, -76.802101], \"Massachusetts\": [42.230171, -71.530106],\n",
    "\"Michigan\": [43.326618, -84.536095], \"Minnesota\": [45.694454, -93.900192],\n",
    "\"Mississippi\": [32.741646, -89.678696], \"Missouri\": [38.456085, -92.288368],\n",
    "\"Montana\": [46.921925, -110.454353], \"Nebraska\": [41.125370, -98.268082],\n",
    "\"Nevada\": [38.313515, -117.055374], \"New Hampshire\": [43.452492, -71.563896],\n",
    "\"New Jersey\": [40.298904, -74.521011], \"New Mexico\": [34.840515, -106.248482],\n",
    "\"New York\": [42.165726, -74.948051], \"North Carolina\": [35.630066, -79.806419],\n",
    "\"North Dakota\": [47.528912, -99.784012], \"Ohio\": [40.388783, -82.764915],\n",
    "\"Oklahoma\": [35.565342, -96.928917], \"Oregon\": [44.572021, -122.070938],\n",
    "\"Pennsylvania\": [40.590752, -77.209755], \"Rhode Island\": [41.680893, -71.511780],\n",
    "\"South Carolina\": [33.856892, -80.945007], \"South Dakota\": [44.299782, -99.438828],\n",
    "\"Tennessee\": [35.747845, -86.692345], \"Texas\": [31.054487, -97.563461],\n",
    "\"Utah\": [40.150032, -111.862434], \"Vermont\": [44.045876, -72.710686],\n",
    "\"Virginia\": [37.769337, -78.169968], \"Washington\": [47.400902, -121.490494],\n",
    "\"West Virginia\": [38.491226, -80.954453], \"Wisconsin\": [44.268543, -89.616508],\n",
    "\"Wyoming\": [42.755966, -107.302490]}\n",
    "\n",
    "coord_states_df = pd.DataFrame(coord_states)\n",
    "coord_states_df = coord_states_df.T.reset_index()\n",
    "coord_states_df.columns = [\"State\", \"Lat\", \"Lon\"]\n",
    "suicide_df = pd.merge(death_suicide_df, coord_states_df, on='State')\n",
    "locations = suicide_df[[\"Lat\", \"Lon\"]].astype(float)\n",
    "suicides = suicide_df[\"Suicide\"].astype(float)\n",
    "\n",
    "suicide_df.head()"
   ]
  },
  {
   "cell_type": "code",
   "execution_count": null,
   "metadata": {},
   "outputs": [],
   "source": [
    "coord_states1 = []\n",
    "for state in coord_states:\n",
    "    coord_states1.append(coord_states[state])\n",
    "\n",
    "list_suicides = list(suicides)\n",
    "int_suicides = []\n",
    "for i in range(len(list_suicides)):\n",
    "    int_suicides.append(int(list_suicides[i]))"
   ]
  },
  {
   "cell_type": "code",
   "execution_count": null,
   "metadata": {},
   "outputs": [],
   "source": [
    "#Create a heat map showing death rates for suicide\n",
    "fig = gmaps.figure()\n",
    "\n",
    "suicide_layer = gmaps.heatmap_layer(locations, weights=suicides)\n",
    "\n",
    "#Adjust suicide_layer setting to help with heatmap dissipating on zoom\n",
    "suicide_layer.dissipating = False\n",
    "suicide_layer.max_intensity = 40\n",
    "suicide_layer.point_radius = 5\n",
    "suicide_layer.gradient = ['white','yellow','green']\n",
    "\n",
    "suicides = list(suicides)\n",
    "suicide1_layer = gmaps.symbol_layer(coord_states1, fill_color='red',\n",
    "                                    stroke_color='red', scale=int_suicides)\n",
    "\n",
    "\n",
    "fig.add_layer(suicide_layer)\n",
    "fig.add_layer(suicide1_layer)\n",
    "\n",
    "fig"
   ]
  },
  {
   "cell_type": "code",
   "execution_count": null,
   "metadata": {
    "scrolled": false
   },
   "outputs": [],
   "source": [
    "#Test the null hypothesis with ANOVA test?\n",
    "# Taken from http://www.usa.com/rank/us--average-temperature--state-rank.htm, cleaned in excel\n",
    "avg_temp_df = pd.read_csv(\"Average_Temperature_States.csv\")\n",
    "avg_temp_df = avg_temp_df.sort_values('State').reset_index()\n",
    "del avg_temp_df['index']\n",
    "avg_temp_df = avg_temp_df[[\"State\", \"Avg Temp\"]]\n",
    "\n",
    "stat = death_suicide_df['State']\n",
    "suic = death_suicide_df['Suicide']\n",
    "temp = avg_temp_df['Avg Temp']\n",
    "cold_hot_df = pd.DataFrame()\n",
    "cold_hot_df['State'] = stat\n",
    "cold_hot_df['Suicide'] = suic\n",
    "cold_hot_df['Avg Temp'] = temp\n",
    "\n",
    "cold_df = cold_hot_df[cold_hot_df['Avg Temp'] <= 55]\n",
    "cold_df.loc[:, 'Type State'] = 'Cold State'\n",
    "hot_df = cold_hot_df[cold_hot_df['Avg Temp'] > 55]\n",
    "hot_df.loc[:, 'Type State'] = 'Hot State'\n",
    "\n",
    "suicide_sign_df = pd.concat([cold_df, hot_df])\n",
    "suicide_sign_df = suicide_sign_df.sort_index()\n",
    "\n",
    "suicide_sign_df.head(10)"
   ]
  },
  {
   "cell_type": "code",
   "execution_count": null,
   "metadata": {},
   "outputs": [],
   "source": [
    "suicide_sign_df1 = suicide_sign_df[[\"Type State\", \"Suicide\"]]\n",
    "suicide_sign_df1.boxplot(\"Suicide\", by=\"Type State\", figsize=(20, 10))\n",
    "\n",
    "#Individual groups\n",
    "Cold = suicide_sign_df1[suicide_sign_df1[\"Type State\"] == \"Cold State\"][\"Suicide\"]\n",
    "Hot = suicide_sign_df1[suicide_sign_df1[\"Type State\"] == \"Hot State\"][\"Suicide\"]\n",
    "\n",
    "pd.options.mode.chained_assignment = None\n",
    "\n",
    "#Perform the ANOVA\n",
    "stats.f_oneway(Cold, Hot)"
   ]
  },
  {
   "cell_type": "code",
   "execution_count": null,
   "metadata": {},
   "outputs": [],
   "source": [
    "#Do a map with most common age-adjusted cause of death by state in these 15 years\n",
    "most_common_causes_df = death_group_df[[\"Heart disease\", \"Cancer\"]]\n",
    "most_common_causes_df = most_common_causes_df.drop(\"United States\")\n",
    "most_common_causes_df = pd.DataFrame(most_common_causes_df).reset_index()\n",
    "most_common_causes_df1 = pd.merge(coord_states_df, most_common_causes_df, on='State')\n",
    "most_common_causes_df1.head()"
   ]
  },
  {
   "cell_type": "code",
   "execution_count": null,
   "metadata": {
    "scrolled": false
   },
   "outputs": [],
   "source": [
    "#Set intervals for heart disease and cancer\n",
    "bins_HD = [130, 180, 230, 280]\n",
    "group_names2 = [\"130-180\", \"181-230\", \"231-280\"]\n",
    "most_common_causes_df1[\"Heart disease Range\"] = pd.cut(most_common_causes_df1[\"Heart disease\"], bins_HD, labels=group_names2)\n",
    "\n",
    "bins_cancer = [130, 160, 190, 220]\n",
    "group_names1 = [\"130-160\", \"161-190\", \"191-220\"]\n",
    "most_common_causes_df1[\"Cancer Range\"] =pd.cut(most_common_causes_df1[\"Cancer\"], bins_cancer, labels=group_names1)\n",
    "\n",
    "most_common_causes_df1.head()"
   ]
  },
  {
   "cell_type": "code",
   "execution_count": null,
   "metadata": {},
   "outputs": [],
   "source": [
    "# Most common diseases in US (Heart disease). Values by states\n",
    "group1_hd_df1 = most_common_causes_df1[most_common_causes_df1['Heart disease Range'] == '231-280']\n",
    "group2_hd_df1 = most_common_causes_df1[most_common_causes_df1['Heart disease Range'] == '181-230']\n",
    "group3_hd_df1 = most_common_causes_df1[most_common_causes_df1['Heart disease Range'] == '130-180']\n",
    "\n",
    "# Most common diseases in US (Cancer). Values by states\n",
    "group1_c_df1 = most_common_causes_df1[most_common_causes_df1['Cancer Range'] == '191-220']\n",
    "group2_c_df1 = most_common_causes_df1[most_common_causes_df1['Cancer Range'] == '161-190']\n",
    "group3_c_df1 = most_common_causes_df1[most_common_causes_df1['Cancer Range'] == '130-160']"
   ]
  },
  {
   "cell_type": "code",
   "execution_count": null,
   "metadata": {},
   "outputs": [],
   "source": [
    "fig4 = gmaps.figure()\n",
    "\n",
    "heart_group1_layer1 = gmaps.symbol_layer(group1_hd_df1[['Lat', 'Lon']], fill_color='red',\n",
    "                                    stroke_color='red', scale=10)\n",
    "heart_group2_layer1 = gmaps.symbol_layer(group2_hd_df1[['Lat', 'Lon']], fill_color=(255,165,20),\n",
    "                                    stroke_color=(255,165,20), scale=8)\n",
    "heart_group3_layer1 = gmaps.symbol_layer(group3_hd_df1[['Lat', 'Lon']], fill_color='yellow',\n",
    "                                    stroke_color=\"yellow\", scale=6)\n",
    "\n",
    "\n",
    "#fig4.add_layer(heart_layer)\n",
    "fig4.add_layer(heart_group1_layer1)\n",
    "fig4.add_layer(heart_group2_layer1)\n",
    "fig4.add_layer(heart_group3_layer1)\n",
    "fig4"
   ]
  },
  {
   "cell_type": "code",
   "execution_count": null,
   "metadata": {},
   "outputs": [],
   "source": [
    "fig5 = gmaps.figure()\n",
    "\n",
    "cancer_group1_layer1 = gmaps.symbol_layer(group1_c_df1[['Lat', 'Lon']], fill_color='red',\n",
    "                                    stroke_color='red', scale=10)\n",
    "cancer_group2_layer1 = gmaps.symbol_layer(group2_c_df1[['Lat', 'Lon']], fill_color=(255,165,20),\n",
    "                                    stroke_color=(255,165,20), scale=8)\n",
    "cancer_group3_layer1 = gmaps.symbol_layer(group3_c_df1[['Lat', 'Lon']], fill_color='yellow',\n",
    "                                    stroke_color='yellow', scale=6)\n",
    "\n",
    "\n",
    "\n",
    "#fig3.add_layer(heart_layer)\n",
    "fig5.add_layer(cancer_group1_layer1)\n",
    "fig5.add_layer(cancer_group2_layer1)\n",
    "fig5.add_layer(cancer_group3_layer1)\n",
    "fig5"
   ]
  },
  {
   "cell_type": "code",
   "execution_count": null,
   "metadata": {},
   "outputs": [],
   "source": []
  },
  {
   "cell_type": "code",
   "execution_count": null,
   "metadata": {},
   "outputs": [],
   "source": []
  }
 ],
 "metadata": {
  "kernelspec": {
   "display_name": "Python 3",
   "language": "python",
   "name": "python3"
  },
  "language_info": {
   "codemirror_mode": {
    "name": "ipython",
    "version": 3
   },
   "file_extension": ".py",
   "mimetype": "text/x-python",
   "name": "python",
   "nbconvert_exporter": "python",
   "pygments_lexer": "ipython3",
   "version": "3.7.3"
  }
 },
 "nbformat": 4,
 "nbformat_minor": 2
}
